{
  "nbformat": 4,
  "nbformat_minor": 0,
  "metadata": {
    "colab": {
      "provenance": []
    },
    "kernelspec": {
      "name": "python3",
      "display_name": "Python 3"
    },
    "language_info": {
      "name": "python"
    }
  },
  "cells": [
    {
      "cell_type": "code",
      "source": [
        "from google.colab import drive\n",
        "drive.mount('/content/drive')"
      ],
      "metadata": {
        "colab": {
          "base_uri": "https://localhost:8080/"
        },
        "id": "gqZtPfPGWANO",
        "outputId": "a728b52e-f795-486c-c526-093d34fed044"
      },
      "execution_count": null,
      "outputs": [
        {
          "output_type": "stream",
          "name": "stdout",
          "text": [
            "Mounted at /content/drive\n"
          ]
        }
      ]
    },
    {
      "cell_type": "code",
      "source": [
        "import numpy as np\n",
        "import pandas as pd\n",
        "import sklearn as nn\n",
        "import torch\n",
        "from sklearn.metrics import roc_auc_score\n",
        "import math\n",
        "from numpy import vstack\n",
        "from torch.utils.data import Dataset\n",
        "from pandas import read_csv\n",
        "from torch.utils.data import DataLoader\n",
        "from torch.nn import Linear\n",
        "from torch.nn import ReLU\n",
        "from torch.nn import Tanh\n",
        "from torch.nn import Sigmoid\n",
        "from torch.nn import Module\n",
        "from torch.nn.init import kaiming_uniform_\n",
        "from torch.optim import SGD\n",
        "from torch.optim import Adam\n",
        "from torch.nn import BCELoss\n",
        "import torch.nn as nn\n",
        "import time"
      ],
      "metadata": {
        "id": "niFhDBl7V__X"
      },
      "execution_count": null,
      "outputs": []
    },
    {
      "cell_type": "code",
      "source": [
        "class CSVDataset(Dataset):\n",
        "    #Constructor for initially loading\n",
        "    def __init__(self, path):\n",
        "        df = read_csv(path, header=0)\n",
        "        self.X = df.values[0:, :-1]\n",
        "        self.y = df.values[0:, -1]\n",
        "        self.X = self.X.astype('float32')\n",
        "        self.y = self.y.astype('float32')\n",
        "        self.y = self.y.reshape((len(self.y), 1))\n",
        "\n",
        "        print(self.X.shape)\n",
        "        print(self.y.shape)\n",
        "\n",
        "    # Get the number of rows in the dataset\n",
        "    def __len__(self):\n",
        "        return len(self.X)\n",
        "    # Get a row at an index\n",
        "    def __getitem__(self,idx):\n",
        "        return [self.X[idx], self.y[idx]]"
      ],
      "metadata": {
        "id": "zsoaHwYUXY0s"
      },
      "execution_count": null,
      "outputs": []
    },
    {
      "cell_type": "code",
      "source": [
        "def prepare_train_dataset(path):\n",
        "    train1 = CSVDataset(path)\n",
        "    train_dl = DataLoader(train1, batch_size=1662, shuffle=False)\n",
        "    return train_dl\n",
        "\n",
        "def prepare_test_dataset(path):\n",
        "    test1 = CSVDataset(path)\n",
        "    test_dl = DataLoader(test1, batch_size=1024, shuffle=False)\n",
        "    return test_dl"
      ],
      "metadata": {
        "id": "Px-noe6RXZfs"
      },
      "execution_count": null,
      "outputs": []
    },
    {
      "cell_type": "code",
      "source": [
        "train_dl_42 = prepare_train_dataset('/content/drive/MyDrive/Colab Notebooks/AFD/merged_train_data.csv')\n",
        "test_dl_42 = prepare_test_dataset('/content/drive/MyDrive/Colab Notebooks/AFD/merged_test_data.csv')\n",
        "\n",
        "train_dl_28 = prepare_train_dataset('/content/drive/MyDrive/Colab Notebooks/AFD/merged_train_data_28.csv')\n",
        "test_dl_28 = prepare_test_dataset('/content/drive/MyDrive/Colab Notebooks/AFD/merged_test_data_28.csv')\n",
        "\n",
        "train_dl_14 = prepare_train_dataset('/content/drive/MyDrive/Colab Notebooks/AFD/merged_train_data_14.csv')\n",
        "test_dl_14 = prepare_test_dataset('/content/drive/MyDrive/Colab Notebooks/AFD/merged_test_data_14.csv')"
      ],
      "metadata": {
        "colab": {
          "base_uri": "https://localhost:8080/"
        },
        "id": "1eXQUY_8WXWK",
        "outputId": "2504e9b9-c3e4-4f20-aaf1-b04bddb67d96"
      },
      "execution_count": null,
      "outputs": [
        {
          "output_type": "stream",
          "name": "stdout",
          "text": [
            "(1662, 42)\n",
            "(1662, 1)\n",
            "(125314, 42)\n",
            "(125314, 1)\n",
            "(1662, 28)\n",
            "(1662, 1)\n",
            "(125314, 28)\n",
            "(125314, 1)\n",
            "(1662, 14)\n",
            "(1662, 1)\n",
            "(125314, 14)\n",
            "(125314, 1)\n"
          ]
        }
      ]
    },
    {
      "cell_type": "code",
      "execution_count": null,
      "metadata": {
        "id": "6hD_3Y4TV2bp"
      },
      "outputs": [],
      "source": [
        "class Logistic_Regression(nn.Module):\n",
        "    def __init__(self, num_features):\n",
        "        super().__init__()\n",
        "        self.layer0 = nn.Linear(in_features=num_features, out_features=1)\n",
        "        self.sigmoid = nn.Sigmoid()\n",
        "\n",
        "    def forward(self, x):\n",
        "        x = self.layer0(x)\n",
        "        x = self.sigmoid(x)\n",
        "        return x"
      ]
    },
    {
      "cell_type": "code",
      "source": [
        "def train_model(model, train_dl, num_epochs):\n",
        "\n",
        "    # Define loss function and optimizer\n",
        "    criterion = torch.nn.BCELoss()\n",
        "    optimizer = torch.optim.SGD(model.parameters(), lr=0.01, momentum=0.9)\n",
        "\n",
        "    for epoch in range(num_epochs):\n",
        "        model.train()\n",
        "        running_loss = 0.0\n",
        "        for inputs, labels in train_dl:\n",
        "            optimizer.zero_grad()\n",
        "            outputs = model(inputs.float())\n",
        "            labels = labels.float()\n",
        "            loss = criterion(outputs, labels)\n",
        "            loss.backward()\n",
        "            optimizer.step()\n",
        "            running_loss += loss.item() * inputs.size(0)\n",
        "        epoch_loss = running_loss / len(train_dl.dataset)"
      ],
      "metadata": {
        "id": "kqzTHLeiWc8R"
      },
      "execution_count": null,
      "outputs": []
    },
    {
      "cell_type": "code",
      "source": [
        "def evaluate_model(model, test_dl):\n",
        "    model.eval()\n",
        "    y_true = []\n",
        "    y_pred = []\n",
        "    with torch.no_grad():\n",
        "        for inputs, labels in test_dl:\n",
        "            outputs = model(inputs.float())\n",
        "            y_true.extend(labels.numpy())\n",
        "            y_pred.extend(outputs.numpy().flatten())\n",
        "    auc = roc_auc_score(y_true, y_pred)\n",
        "    print(f\"AUC: {auc:.4f}\")"
      ],
      "metadata": {
        "id": "SzHTjfGMWrcx"
      },
      "execution_count": null,
      "outputs": []
    },
    {
      "cell_type": "code",
      "source": [
        "model_42 = Logistic_Regression(42)"
      ],
      "metadata": {
        "id": "vD3nfN18XAw-"
      },
      "execution_count": null,
      "outputs": []
    },
    {
      "cell_type": "code",
      "source": [
        "train_model(model_42, train_dl_42, num_epochs=150)\n"
      ],
      "metadata": {
        "id": "JGPvBhT5W4J5"
      },
      "execution_count": null,
      "outputs": []
    },
    {
      "cell_type": "code",
      "source": [
        "evaluate_model(model_42, test_dl_42)"
      ],
      "metadata": {
        "id": "VtOL1EFDW6aE"
      },
      "execution_count": null,
      "outputs": []
    },
    {
      "cell_type": "code",
      "source": [
        "auc_values = []\n",
        "\n",
        "# Perform 10 training runs\n",
        "for i in range(10):\n",
        "    model_42 = Logistic_Regression(42)\n",
        "    train_model(model_42, train_dl_42, num_epochs=150)\n",
        "\n",
        "    # Evaluate the model\n",
        "    model_42.eval()\n",
        "    y_true = []\n",
        "    y_pred = []\n",
        "    with torch.no_grad():\n",
        "        for inputs, labels in test_dl_42:\n",
        "            outputs = model_42(inputs.float())\n",
        "            y_true.extend(labels.numpy())\n",
        "            y_pred.extend(outputs.numpy().flatten())\n",
        "    auc = roc_auc_score(y_true, y_pred)\n",
        "    auc_values.append(auc)  # Append AUC to the list\n",
        "    print(f\"Run {i+1}: AUC = {auc:.4f}\")\n",
        "\n",
        "# Calculate the average AUC\n",
        "average_auc = np.mean(auc_values)\n",
        "print(f\"\\nAverage AUC: {average_auc:.4f}\")\n",
        "\n",
        "# Calculate the std AUC\n",
        "auc_std_dev = np.std(auc_values)\n",
        "print(f\"Standard Deviation of AUC: {auc_std_dev:.4f}\")\n"
      ],
      "metadata": {
        "colab": {
          "base_uri": "https://localhost:8080/"
        },
        "id": "FVK3j6IA1gzc",
        "outputId": "06f7f551-15fc-4c5d-f353-e8f8322c4412"
      },
      "execution_count": null,
      "outputs": [
        {
          "output_type": "stream",
          "name": "stdout",
          "text": [
            "Run 1: AUC = 0.6143\n",
            "Run 2: AUC = 0.6027\n",
            "Run 3: AUC = 0.4825\n",
            "Run 4: AUC = 0.6198\n",
            "Run 5: AUC = 0.6274\n",
            "Run 6: AUC = 0.6150\n",
            "Run 7: AUC = 0.6136\n",
            "Run 8: AUC = 0.4691\n",
            "Run 9: AUC = 0.5214\n",
            "Run 10: AUC = 0.5762\n",
            "\n",
            "Average AUC: 0.5742\n",
            "Standard Deviation of AUC: 0.0572\n"
          ]
        }
      ]
    },
    {
      "cell_type": "code",
      "source": [
        "model_28 = Logistic_Regression(28)"
      ],
      "metadata": {
        "id": "D1jwvt-P0wbR"
      },
      "execution_count": null,
      "outputs": []
    },
    {
      "cell_type": "code",
      "source": [
        "train_model(model_28, train_dl_28, num_epochs=150)"
      ],
      "metadata": {
        "id": "BdT667ID0wYf"
      },
      "execution_count": null,
      "outputs": []
    },
    {
      "cell_type": "code",
      "source": [
        "evaluate_model(model_28, test_dl_28)"
      ],
      "metadata": {
        "id": "vaOOPZq40wVR"
      },
      "execution_count": null,
      "outputs": []
    },
    {
      "cell_type": "code",
      "source": [
        "auc_values_28 = []\n",
        "\n",
        "# Perform 10 training runs\n",
        "for i in range(10):\n",
        "    model_28 = Logistic_Regression(28)\n",
        "    train_model(model_28, train_dl_28, num_epochs=150)\n",
        "\n",
        "    # Evaluate the model\n",
        "    model_28.eval()\n",
        "    y_true = []\n",
        "    y_pred = []\n",
        "    with torch.no_grad():\n",
        "        for inputs, labels in test_dl_28:\n",
        "            outputs = model_28(inputs.float())\n",
        "            y_true.extend(labels.numpy())\n",
        "            y_pred.extend(outputs.numpy().flatten())\n",
        "    auc_28 = roc_auc_score(y_true, y_pred)\n",
        "    auc_values_28.append(auc_28)  # Append AUC to the list\n",
        "    print(f\"Run {i+1}: AUC = {auc_28:.4f}\")\n",
        "\n",
        "# Calculate the average AUC\n",
        "average_auc_28 = np.mean(auc_values_28)\n",
        "print(f\"\\nAverage AUC: {average_auc_28:.4f}\")\n",
        "\n",
        "# Calculate the std AUC\n",
        "auc_std_dev_28 = np.std(auc_values_28)\n",
        "print(f\"Standard Deviation of AUC: {auc_std_dev_28:.4f}\")"
      ],
      "metadata": {
        "colab": {
          "base_uri": "https://localhost:8080/"
        },
        "id": "RDUWI_i942aI",
        "outputId": "7b1b9451-aea3-47cc-da01-4bc4da312f5a"
      },
      "execution_count": null,
      "outputs": [
        {
          "output_type": "stream",
          "name": "stdout",
          "text": [
            "Run 1: AUC = 0.4169\n",
            "Run 2: AUC = 0.5776\n",
            "Run 3: AUC = 0.5786\n",
            "Run 4: AUC = 0.4890\n",
            "Run 5: AUC = 0.5900\n",
            "Run 6: AUC = 0.5537\n",
            "Run 7: AUC = 0.4395\n",
            "Run 8: AUC = 0.4432\n",
            "Run 9: AUC = 0.5311\n",
            "Run 10: AUC = 0.6131\n",
            "\n",
            "Average AUC: 0.5233\n",
            "Standard Deviation of AUC: 0.0674\n"
          ]
        }
      ]
    },
    {
      "cell_type": "code",
      "source": [
        "model_14 = Logistic_Regression(14)"
      ],
      "metadata": {
        "id": "AcApts2g0wSD"
      },
      "execution_count": null,
      "outputs": []
    },
    {
      "cell_type": "code",
      "source": [
        "train_model(model_14, train_dl_14, num_epochs=150)"
      ],
      "metadata": {
        "id": "F1WSxyGl0wM6"
      },
      "execution_count": null,
      "outputs": []
    },
    {
      "cell_type": "code",
      "source": [
        "evaluate_model(model_14, test_dl_14)"
      ],
      "metadata": {
        "id": "EvXzbGpQ0wDs"
      },
      "execution_count": null,
      "outputs": []
    },
    {
      "cell_type": "code",
      "source": [
        "auc_values_14 = []\n",
        "\n",
        "# Perform 10 training runs\n",
        "for i in range(10):\n",
        "    model_14 = Logistic_Regression(14)\n",
        "    train_model(model_14, train_dl_14, num_epochs=150)\n",
        "\n",
        "    # Evaluate the model\n",
        "    model_14.eval()\n",
        "    y_true = []\n",
        "    y_pred = []\n",
        "    with torch.no_grad():\n",
        "        for inputs, labels in test_dl_14:\n",
        "            outputs = model_14(inputs.float())\n",
        "            y_true.extend(labels.numpy())\n",
        "            y_pred.extend(outputs.numpy().flatten())\n",
        "    auc_14 = roc_auc_score(y_true, y_pred)\n",
        "    auc_values_14.append(auc_14)  # Append AUC to the list\n",
        "    print(f\"Run {i+1}: AUC = {auc_14:.4f}\")\n",
        "\n",
        "# Calculate the average AUC\n",
        "average_auc_14 = np.mean(auc_values_14)\n",
        "print(f\"\\nAverage AUC: {average_auc_14:.4f}\")\n",
        "\n",
        "auc_std_dev_14 = np.std(auc_values_14)\n",
        "print(f\"Standard Deviation of AUC: {auc_std_dev_14:.4f}\")"
      ],
      "metadata": {
        "colab": {
          "base_uri": "https://localhost:8080/"
        },
        "id": "KNMryhtU5szZ",
        "outputId": "f660e298-0196-4cb8-dfb1-76a263af0f9b"
      },
      "execution_count": null,
      "outputs": [
        {
          "output_type": "stream",
          "name": "stdout",
          "text": [
            "Run 1: AUC = 0.6064\n",
            "Run 2: AUC = 0.6299\n",
            "Run 3: AUC = 0.4837\n",
            "Run 4: AUC = 0.4950\n",
            "Run 5: AUC = 0.5637\n",
            "Run 6: AUC = 0.6099\n",
            "Run 7: AUC = 0.5932\n",
            "Run 8: AUC = 0.5007\n",
            "Run 9: AUC = 0.6128\n",
            "Run 10: AUC = 0.6048\n",
            "\n",
            "Average AUC: 0.5700\n",
            "Standard Deviation of AUC: 0.0529\n"
          ]
        }
      ]
    }
  ]
}