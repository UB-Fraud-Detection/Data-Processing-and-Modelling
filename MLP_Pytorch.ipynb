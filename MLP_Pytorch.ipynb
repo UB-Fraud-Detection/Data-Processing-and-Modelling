{
  "nbformat": 4,
  "nbformat_minor": 0,
  "metadata": {
    "colab": {
      "provenance": [],
      "machine_shape": "hm",
      "gpuType": "T4"
    },
    "kernelspec": {
      "name": "python3",
      "display_name": "Python 3"
    },
    "language_info": {
      "name": "python"
    },
    "accelerator": "GPU"
  },
  "cells": [
    {
      "cell_type": "code",
      "execution_count": null,
      "metadata": {
        "colab": {
          "base_uri": "https://localhost:8080/"
        },
        "id": "9I5I7RdBrreI",
        "outputId": "736901f5-b105-4208-b754-e614fffa3c6a"
      },
      "outputs": [
        {
          "output_type": "stream",
          "name": "stdout",
          "text": [
            "Mounted at /content/drive\n"
          ]
        }
      ],
      "source": [
        "from google.colab import drive\n",
        "drive.mount('/content/drive')"
      ]
    },
    {
      "cell_type": "code",
      "source": [
        "import numpy as np\n",
        "import pandas as pd\n",
        "import torch\n",
        "from numpy import vstack\n",
        "from pandas import read_csv\n",
        "from sklearn.preprocessing import MinMaxScaler\n",
        "from imblearn.under_sampling import RandomUnderSampler\n",
        "from sklearn.metrics import roc_auc_score\n",
        "from torch.utils.data import Dataset\n",
        "from torch.utils.data import DataLoader\n",
        "from torch import Tensor\n",
        "from torch.nn import Linear\n",
        "from torch.nn import ReLU\n",
        "from torch.nn import Tanh\n",
        "from torch.nn import Sigmoid\n",
        "from torch.nn import Module\n",
        "from torch.optim import SGD\n",
        "from torch.optim import Adam\n",
        "from torch.nn import BCELoss\n",
        "import torch.nn as nn\n",
        "from torch.optim import lr_scheduler\n",
        "from torch.nn.init import kaiming_uniform_\n",
        "from torch.nn.init import xavier_uniform_\n",
        "import time\n",
        "import copy"
      ],
      "metadata": {
        "id": "Xq56UKY2JOep"
      },
      "execution_count": null,
      "outputs": []
    },
    {
      "cell_type": "code",
      "source": [
        "#Read merged data set\n",
        "df = pd.read_csv('/content/drive/MyDrive/Colab Notebooks/AFD/merged_compustat_and_labels.csv')"
      ],
      "metadata": {
        "id": "WgixOGuw_CLw"
      },
      "execution_count": null,
      "outputs": []
    },
    {
      "cell_type": "code",
      "source": [
        "#Preprocess dataset\n",
        "df = df.fillna(0)\n",
        "\n",
        "df = df[df.columns].replace([np.inf, -np.inf], 0)\n",
        "\n",
        "columns_to_normalize = ['act', 'ap', 'at', 'ceq', 'che', 'cogs', 'csho', 'dlc', 'dltis', 'dltt', 'dp', 'ib',\n",
        "                       'invt', 'ivao', 'ivst', 'lct', 'lt', 'ni', 'ppegt', 'pstk', 're', 'rect', 'sale', 'sstk',\n",
        "                       'txp', 'txt', 'xint', 'prcc_f', 'dch_wc', 'ch_rsst', 'dch_rec', 'dch_inv', 'soft_assets',\n",
        "                       'ch_cs', 'ch_cm', 'ch_roa', 'bm', 'dpi', 'reoa', 'EBIT', 'ch_fcf', 'issue']\n",
        "\n",
        "#Step 2: Apply Min-Max scaling for normalization\n",
        "scaler = MinMaxScaler()\n",
        "df[columns_to_normalize] = scaler.fit_transform(df[columns_to_normalize])\n",
        "\n",
        "# Step 3: Convert the normalized values to float type (should already be in float)\n",
        "df[columns_to_normalize] = df[columns_to_normalize].astype('float32')"
      ],
      "metadata": {
        "id": "AlkA2hWM_4cu"
      },
      "execution_count": null,
      "outputs": []
    },
    {
      "cell_type": "code",
      "source": [
        "desired_columns_order = [\n",
        "    'gvkey', 'fyear', 'tic', 'cik', 'Bank', 'act', 'ap', 'at', 'ceq', 'che',\n",
        "    'cogs', 'csho', 'dlc', 'dltis', 'dltt', 'dp', 'ib', 'invt', 'ivao', 'ivst',\n",
        "    'lct', 'lt', 'ni', 'ppegt', 'ppent', 'pstk', 're', 'rect', 'sale', 'sstk',\n",
        "    'txp', 'txt', 'xint', 'prcc_f', 'dch_wc', 'ch_rsst', 'dch_rec', 'dch_inv',\n",
        "    'soft_assets', 'ch_cs', 'ch_cm', 'ch_roa', 'issue', 'bm', 'dpi', 'reoa',\n",
        "    'EBIT', 'ch_fcf', 'misstate']\n",
        "\n",
        "# Reorder the columns\n",
        "df = df.reindex(columns=desired_columns_order)"
      ],
      "metadata": {
        "id": "btN_tiqlAK6X"
      },
      "execution_count": null,
      "outputs": []
    },
    {
      "cell_type": "code",
      "source": [
        "import matplotlib.pyplot as plt\n",
        "\n",
        "# Filter the DataFrame for years from 1990 to 2019\n",
        "filtered_df = df[(df['fyear'] >= 1990) & (df['fyear'] <= 2019)]\n",
        "training_df = df[(df['fyear'] >= 1990) & (df['fyear'] <= 2002)]\n",
        "testing_df = df[(df['fyear'] >= 2003) & (df['fyear'] <= 2019)]\n",
        "\n",
        "# Group by fiscal year and sum misstatements\n",
        "misstatements_by_fyear = filtered_df.groupby('fyear')['misstate'].sum()\n",
        "misstatements_by_fyear_training = training_df.groupby('fyear')['misstate'].sum()\n",
        "misstatements_by_fyear_testing = testing_df.groupby('fyear')['misstate'].sum()\n",
        "\n",
        "# Calculate total misstatements\n",
        "total_misstatements = misstatements_by_fyear.sum()\n",
        "total_misstatements_training = misstatements_by_fyear_training.sum()\n",
        "total_misstatements_testing = misstatements_by_fyear_testing.sum()\n",
        "\n",
        "# Plotting\n",
        "plt.figure(figsize=(8, 4))\n",
        "misstatements_by_fyear.plot(kind='bar')\n",
        "plt.xlabel('Fiscal Year')\n",
        "plt.ylabel('Number of Misstatements')\n",
        "plt.grid(axis='y', linestyle='--', alpha=0.7)\n",
        "plt.xticks(rotation=45)\n",
        "plt.tight_layout()\n",
        "plt.show()\n",
        "\n",
        "# Print total misstatements\n",
        "print(\"Total number of misstatements from 1990 to 2019:\", total_misstatements)\n",
        "print(\"Total number of misstatements in the training period from 1990 to 2002:\", total_misstatements_training)\n",
        "print(\"Total number of misstatements in the testing period from 2003 to 2019:\", total_misstatements_testing)"
      ],
      "metadata": {
        "colab": {
          "base_uri": "https://localhost:8080/",
          "height": 459
        },
        "id": "cKtjvj2El0I7",
        "outputId": "21008395-597e-439b-9bb9-b1bfa43d0483"
      },
      "execution_count": null,
      "outputs": [
        {
          "output_type": "display_data",
          "data": {
            "text/plain": [
              "<Figure size 800x400 with 1 Axes>"
            ],
            "image/png": "[encoded data removed]"
          },
          "metadata": {}
        },
        {
          "output_type": "stream",
          "name": "stdout",
          "text": [
            "Total number of misstatements from 1990 to 2019: 1371\n",
            "Total number of misstatements in the training period from 1990 to 2002: 831\n",
            "Total number of misstatements in the testing period from 2003 to 2019: 540\n"
          ]
        }
      ]
    },
    {
      "cell_type": "code",
      "source": [
        "# Split features into the specified groups\n",
        "raw_items_28_financial_ratios_14 = ['act', 'ap', 'at', 'ceq', 'che', 'cogs', 'csho', 'dlc', 'dltis', 'dltt', 'dp', 'ib',\n",
        "                       'invt', 'ivao', 'ivst', 'lct', 'lt', 'ni', 'ppegt', 'pstk', 're', 'rect', 'sale', 'sstk',\n",
        "                       'txp', 'txt', 'xint','prcc_f', 'dch_wc', 'ch_rsst', 'dch_rec', 'dch_inv', 'soft_assets',\n",
        "                       'ch_cs', 'ch_cm', 'ch_roa', 'bm', 'dpi', 'reoa', 'EBIT', 'ch_fcf', 'issue']\n"
      ],
      "metadata": {
        "id": "eBM7Sh06HE3_"
      },
      "execution_count": null,
      "outputs": []
    },
    {
      "cell_type": "code",
      "source": [
        "# Assign Train, Val, and Test periods\n",
        "train_period, test_period = (1990, 2002), (2003, 2019)\n",
        "\n",
        "# loading data\n",
        "train_data = df[(df['fyear'] >= train_period[0]) & (df['fyear'] <= train_period[1])]\n",
        "test_data = df[(df['fyear'] >= test_period[0]) & (df['fyear'] <= test_period[1])]\n",
        "\n",
        "# Extract features (X) and target variable (y) for training and testing\n",
        "X_train = train_data[raw_items_28_financial_ratios_14]\n",
        "y_train = train_data['misstate']\n",
        "\n",
        "X_test = test_data[raw_items_28_financial_ratios_14]\n",
        "y_test = test_data['misstate']\n",
        "\n",
        "# Undersampling the data\n",
        "rus = RandomUnderSampler()\n",
        "X_train_resampled, y_train_resampled = rus.fit_resample(X_train, y_train)\n",
        "\n",
        "print(\"Training data Shape after under sampling:\", X_train_resampled.shape, y_train_resampled.shape)"
      ],
      "metadata": {
        "colab": {
          "base_uri": "https://localhost:8080/"
        },
        "id": "2dnz1lYaHH6r",
        "outputId": "7ea48a49-e6a7-4c42-e8cb-836b12aa2753"
      },
      "execution_count": null,
      "outputs": [
        {
          "output_type": "stream",
          "name": "stdout",
          "text": [
            "Training data Shape after under sampling: (1662, 42) (1662,)\n"
          ]
        }
      ]
    },
    {
      "cell_type": "code",
      "source": [
        "financial_ratios_14 = ['dch_wc', 'ch_rsst', 'dch_rec', 'dch_inv', 'soft_assets', 'ch_cs', 'ch_cm', 'ch_roa', 'bm',\n",
        "                          'dpi', 'reoa', 'EBIT', 'ch_fcf', 'issue']\n",
        "\n",
        "raw_financial_items_28 = ['act', 'ap', 'at', 'ceq', 'che', 'cogs', 'csho', 'dlc', 'dltis', 'dltt', 'dp', 'ib',\n",
        "                       'invt', 'ivao', 'ivst', 'lct', 'lt', 'ni', 'ppegt', 'pstk', 're', 'rect', 'sale', 'sstk',\n",
        "                       'txp', 'txt', 'xint', 'prcc_f']\n",
        "\n",
        "X_train_resampled_28 = X_train_resampled.loc[:, raw_financial_items_28]\n",
        "y_train_resampled_28 = y_train_resampled\n",
        "\n",
        "X_test_28 = X_test.loc[:, raw_financial_items_28]\n",
        "y_test_28 = y_test\n",
        "\n",
        "X_train_resampled_14 = X_train_resampled.loc[:, financial_ratios_14]\n",
        "y_train_resampled_14 = y_train_resampled\n",
        "\n",
        "X_test_14 = X_test.loc[:, financial_ratios_14]\n",
        "y_test_14 = y_test"
      ],
      "metadata": {
        "id": "oem_t5ISHiVb"
      },
      "execution_count": null,
      "outputs": []
    },
    {
      "cell_type": "code",
      "source": [
        "merged_train_data = pd.concat([X_train_resampled, y_train_resampled], axis = 1)\n",
        "merged_test_data = pd.concat([X_test, y_test], axis = 1)\n",
        "\n",
        "merged_train_data_28 = pd.concat([X_train_resampled_28, y_train_resampled_28], axis = 1)\n",
        "merged_test_data_28 = pd.concat([X_test_28, y_test_28], axis = 1)\n",
        "\n",
        "merged_train_data_14 = pd.concat([X_train_resampled_14, y_train_resampled_14], axis = 1)\n",
        "merged_test_data_14 = pd.concat([X_test_14, y_test_14], axis = 1)"
      ],
      "metadata": {
        "id": "u7txBzUlRSk3"
      },
      "execution_count": null,
      "outputs": []
    },
    {
      "cell_type": "code",
      "source": [
        "merged_train_data.to_csv('/content/drive/MyDrive/Colab Notebooks/AFD/merged_train_data.csv', index=False)\n",
        "merged_test_data.to_csv('/content/drive/MyDrive/Colab Notebooks/AFD/merged_test_data.csv', index=False)\n",
        "\n",
        "merged_train_data_28.to_csv('/content/drive/MyDrive/Colab Notebooks/AFD/merged_train_data_28.csv', index=False)\n",
        "merged_test_data_28.to_csv('/content/drive/MyDrive/Colab Notebooks/AFD/merged_test_data_28.csv', index=False)\n",
        "\n",
        "merged_train_data_14.to_csv('/content/drive/MyDrive/Colab Notebooks/AFD/merged_train_data_14.csv', index=False)\n",
        "merged_test_data_14.to_csv('/content/drive/MyDrive/Colab Notebooks/AFD/merged_test_data_14.csv', index=False)"
      ],
      "metadata": {
        "id": "1RKeroamkTZL"
      },
      "execution_count": null,
      "outputs": []
    },
    {
      "cell_type": "code",
      "source": [
        "class CSVDataset(Dataset):\n",
        "    #Constructor for initially loading\n",
        "    def __init__(self, path):\n",
        "        df = read_csv(path, header=0)\n",
        "        self.X = df.values[0:, :-1]\n",
        "        self.y = df.values[0:, -1]\n",
        "        self.X = self.X.astype('float32')\n",
        "        self.y = self.y.astype('float32')\n",
        "        self.y = self.y.reshape((len(self.y), 1))\n",
        "\n",
        "        print(self.X.shape)\n",
        "        print(self.y.shape)\n",
        "\n",
        "    # Get the number of rows in the dataset\n",
        "    def __len__(self):\n",
        "        return len(self.X)\n",
        "    # Get a row at an index\n",
        "    def __getitem__(self,idx):\n",
        "        return [self.X[idx], self.y[idx]]"
      ],
      "metadata": {
        "id": "XWRFpeWnNS78"
      },
      "execution_count": null,
      "outputs": []
    },
    {
      "cell_type": "code",
      "source": [
        "def prepare_train_dataset(path):\n",
        "    train = CSVDataset(path)\n",
        "    train_dl = DataLoader(train, batch_size=1662, shuffle=True)\n",
        "    return train_dl\n",
        "\n",
        "def prepare_test_dataset(path):\n",
        "    test = CSVDataset(path)\n",
        "    test_dl = DataLoader(test, batch_size=1024, shuffle=False)\n",
        "    return test_dl\n"
      ],
      "metadata": {
        "id": "dGI1TdbPQhHB"
      },
      "execution_count": null,
      "outputs": []
    },
    {
      "cell_type": "code",
      "source": [
        "train_dl_42 = prepare_train_dataset('/content/drive/MyDrive/Colab Notebooks/AFD/merged_train_data.csv')\n",
        "test_dl_42 = prepare_test_dataset('/content/drive/MyDrive/Colab Notebooks/AFD/merged_test_data.csv')\n",
        "\n",
        "train_dl_28 = prepare_train_dataset('/content/drive/MyDrive/Colab Notebooks/AFD/merged_train_data_28.csv')\n",
        "test_dl_28 = prepare_test_dataset('/content/drive/MyDrive/Colab Notebooks/AFD/merged_test_data_28.csv')\n",
        "\n",
        "train_dl_14 = prepare_train_dataset('/content/drive/MyDrive/Colab Notebooks/AFD/merged_train_data_14.csv')\n",
        "test_dl_14 = prepare_test_dataset('/content/drive/MyDrive/Colab Notebooks/AFD/merged_test_data_14.csv')"
      ],
      "metadata": {
        "colab": {
          "base_uri": "https://localhost:8080/"
        },
        "id": "opqgRVw3lSSL",
        "outputId": "4e4bf0ac-6b17-4e46-e465-fa49fcee7c5c"
      },
      "execution_count": null,
      "outputs": [
        {
          "output_type": "stream",
          "name": "stdout",
          "text": [
            "(1662, 42)\n",
            "(1662, 1)\n",
            "(125314, 42)\n",
            "(125314, 1)\n",
            "(1662, 28)\n",
            "(1662, 1)\n",
            "(125314, 28)\n",
            "(125314, 1)\n",
            "(1662, 14)\n",
            "(1662, 1)\n",
            "(125314, 14)\n",
            "(125314, 1)\n"
          ]
        }
      ]
    },
    {
      "cell_type": "code",
      "source": [
        "#{'n_layers': 5, 'layer_0_size': 57, 'layer_1_size': 22, 'layer_2_size': 107, 'layer_3_size': 202, 'layer_4_size': 162,\n",
        "#'activation_0': 'relu', 'activation_1': 'relu', 'activation_2': 'relu', 'activation_3': 'sigmoid', 'activation_4': 'sigmoid'}.\n",
        "\n",
        "class FraudDetectionMLP(Module):\n",
        "    def __init__(self, n_inputs):\n",
        "        super(FraudDetectionMLP, self).__init__()\n",
        "        # Input layer\n",
        "        self.hidden1 = Linear(n_inputs, 57)\n",
        "        kaiming_uniform_(self.hidden1.weight, nonlinearity='relu')\n",
        "        self.act1 = ReLU()\n",
        "        # Second (hidden) layer\n",
        "        self.hidden2 = Linear(57, 22)\n",
        "        kaiming_uniform_(self.hidden2.weight, nonlinearity='relu')\n",
        "        self.act2 = ReLU()\n",
        "        # Third (hidden) layer\n",
        "        self.hidden3 = Linear(22, 107)\n",
        "        kaiming_uniform_(self.hidden3.weight, nonlinearity='relu')\n",
        "        self.act3 = ReLU()\n",
        "        # Fourth (hidden) layer\n",
        "        self.hidden4 = Linear(107, 202)\n",
        "        kaiming_uniform_(self.hidden4.weight, nonlinearity='relu')\n",
        "        self.act4 = Sigmoid()\n",
        "        # Fifth (hidden) layer\n",
        "        self.hidden5 = Linear(202, 162)\n",
        "        kaiming_uniform_(self.hidden5.weight, nonlinearity='relu')\n",
        "        self.act5 = Sigmoid()\n",
        "        # Output layer\n",
        "        self.hidden6 = Linear(162,1)\n",
        "        xavier_uniform_(self.hidden6.weight)\n",
        "        self.act6 = Sigmoid()\n",
        "\n",
        "    def forward(self, X):\n",
        "        # Input to the first hidden layer\n",
        "        X = self.hidden1(X)\n",
        "        X = self.act1(X)\n",
        "        # Second hidden layer\n",
        "        X = self.hidden2(X)\n",
        "        X = self.act2(X)\n",
        "        # Third hidden layer\n",
        "        X = self.hidden3(X)\n",
        "        X = self.act3(X)\n",
        "        # Fourth hidden layer\n",
        "        X = self.hidden4(X)\n",
        "        X = self.act4(X)\n",
        "        # Fifth hidden layer\n",
        "        X = self.hidden5(X)\n",
        "        X = self.act5(X)\n",
        "        # Output layer\n",
        "        X = self.hidden6(X)\n",
        "        X = self.act6(X)\n",
        "        return X\n"
      ],
      "metadata": {
        "id": "L2lgt4VtIgcA"
      },
      "execution_count": null,
      "outputs": []
    },
    {
      "cell_type": "code",
      "source": [
        "def train_model(model, train_dl, num_epochs):\n",
        "\n",
        "    # Define loss function and optimizer\n",
        "    criterion = torch.nn.BCELoss()\n",
        "    optimizer = torch.optim.SGD(model.parameters(), lr=0.01, momentum=0.9)\n",
        "\n",
        "    for epoch in range(num_epochs):\n",
        "        model.train()\n",
        "        running_loss = 0.0\n",
        "        for inputs, labels in train_dl:\n",
        "            optimizer.zero_grad()\n",
        "            outputs = model(inputs.float())\n",
        "            labels = labels.float()\n",
        "            loss = criterion(outputs, labels)\n",
        "            loss.backward()\n",
        "            optimizer.step()\n",
        "            running_loss += loss.item() * inputs.size(0)\n",
        "        epoch_loss = running_loss / len(train_dl.dataset)"
      ],
      "metadata": {
        "id": "47VuAFddIgZK"
      },
      "execution_count": null,
      "outputs": []
    },
    {
      "cell_type": "code",
      "source": [
        "def evaluate_model(model, test_dl):\n",
        "    model.eval()\n",
        "    y_true = []\n",
        "    y_pred = []\n",
        "    with torch.no_grad():\n",
        "        for inputs, labels in test_dl:\n",
        "            outputs = model(inputs.float())\n",
        "            y_true.extend(labels.numpy())\n",
        "            y_pred.extend(outputs.numpy().flatten())\n",
        "    auc = roc_auc_score(y_true, y_pred)\n",
        "    print(f\"AUC: {auc:.4f}\")"
      ],
      "metadata": {
        "id": "MGRynNPLXWz-"
      },
      "execution_count": null,
      "outputs": []
    },
    {
      "cell_type": "code",
      "source": [
        "# 42 features model\n",
        "model = FraudDetectionMLP(42)"
      ],
      "metadata": {
        "id": "6JkK1a22QfGd"
      },
      "execution_count": null,
      "outputs": []
    },
    {
      "cell_type": "code",
      "source": [
        "train_model(model, train_dl_42, num_epochs=150)"
      ],
      "metadata": {
        "id": "uXXeHp2eQoYs"
      },
      "execution_count": null,
      "outputs": []
    },
    {
      "cell_type": "code",
      "source": [
        "evaluate_model(model, test_dl_42)\n"
      ],
      "metadata": {
        "id": "JOJh1EuMYLgB"
      },
      "execution_count": null,
      "outputs": []
    },
    {
      "cell_type": "code",
      "source": [
        "auc_values = []\n",
        "\n",
        "# Perform 10 training runs\n",
        "for i in range(10):\n",
        "    model_42 = FraudDetectionMLP(42)\n",
        "    train_model(model_42, train_dl_42, num_epochs=150)\n",
        "\n",
        "    # Evaluate the model\n",
        "    model_42.eval()\n",
        "    y_true = []\n",
        "    y_pred = []\n",
        "    with torch.no_grad():\n",
        "        for inputs, labels in test_dl_42:\n",
        "            outputs = model_42(inputs.float())\n",
        "            y_true.extend(labels.numpy())\n",
        "            y_pred.extend(outputs.numpy().flatten())\n",
        "    auc = roc_auc_score(y_true, y_pred)\n",
        "    auc_values.append(auc)  # Append AUC to the list\n",
        "    print(f\"Run {i+1}: AUC = {auc:.4f}\")\n",
        "\n",
        "# Calculate the average AUC\n",
        "average_auc = np.mean(auc_values)\n",
        "print(f\"\\nAverage AUC: {average_auc:.4f}\")\n",
        "\n",
        "# Calculate the std AUC\n",
        "auc_std_dev = np.std(auc_values)\n",
        "print(f\"Standard Deviation of AUC: {auc_std_dev:.4f}\")"
      ],
      "metadata": {
        "colab": {
          "base_uri": "https://localhost:8080/"
        },
        "id": "aihzDSq1B0Dh",
        "outputId": "f4988048-181b-442e-d5e6-2de5c5fbed52"
      },
      "execution_count": null,
      "outputs": [
        {
          "output_type": "stream",
          "name": "stdout",
          "text": [
            "Run 1: AUC = 0.6240\n",
            "Run 2: AUC = 0.6053\n",
            "Run 3: AUC = 0.6114\n",
            "Run 4: AUC = 0.6428\n",
            "Run 5: AUC = 0.6155\n",
            "Run 6: AUC = 0.6112\n",
            "Run 7: AUC = 0.6179\n",
            "Run 8: AUC = 0.6169\n",
            "Run 9: AUC = 0.6331\n",
            "Run 10: AUC = 0.6237\n",
            "\n",
            "Average AUC: 0.6202\n",
            "Standard Deviation of AUC: 0.0106\n"
          ]
        }
      ]
    },
    {
      "cell_type": "code",
      "source": [
        "# 28 raw financial items model\n",
        "model_28 = FraudDetectionMLP(28)"
      ],
      "metadata": {
        "id": "3c4-YtZROPyo"
      },
      "execution_count": null,
      "outputs": []
    },
    {
      "cell_type": "code",
      "source": [
        "train_model(model_28, train_dl_28, num_epochs=150)"
      ],
      "metadata": {
        "id": "yI5Ts5A1ORoS"
      },
      "execution_count": null,
      "outputs": []
    },
    {
      "cell_type": "code",
      "source": [
        "evaluate_model(model_28, test_dl_28)"
      ],
      "metadata": {
        "id": "GWaIk-nSOS9J"
      },
      "execution_count": null,
      "outputs": []
    },
    {
      "cell_type": "code",
      "source": [
        "auc_values_28 = []\n",
        "\n",
        "# Perform 10 training runs\n",
        "for i in range(10):\n",
        "    model_28 = FraudDetectionMLP(28)\n",
        "    train_model(model_28, train_dl_28, num_epochs=150)\n",
        "\n",
        "    # Evaluate the model\n",
        "    model_28.eval()\n",
        "    y_true = []\n",
        "    y_pred = []\n",
        "    with torch.no_grad():\n",
        "        for inputs, labels in test_dl_28:\n",
        "            outputs = model_28(inputs.float())\n",
        "            y_true.extend(labels.numpy())\n",
        "            y_pred.extend(outputs.numpy().flatten())\n",
        "    auc_28 = roc_auc_score(y_true, y_pred)\n",
        "    auc_values_28.append(auc_28)  # Append AUC to the list\n",
        "    print(f\"Run {i+1}: AUC = {auc_28:.4f}\")\n",
        "\n",
        "# Calculate the average AUC\n",
        "average_auc_28 = np.mean(auc_values_28)\n",
        "print(f\"\\nAverage AUC: {average_auc_28:.4f}\")\n",
        "\n",
        "# Calculate the std AUC\n",
        "auc_std_dev_28 = np.std(auc_values_28)\n",
        "print(f\"Standard Deviation of AUC: {auc_std_dev_28:.4f}\")"
      ],
      "metadata": {
        "colab": {
          "base_uri": "https://localhost:8080/"
        },
        "id": "GCPnyoQXB0ii",
        "outputId": "45a9148b-cf8d-4e0d-e165-1672f6e75820"
      },
      "execution_count": null,
      "outputs": [
        {
          "output_type": "stream",
          "name": "stdout",
          "text": [
            "Run 1: AUC = 0.6096\n",
            "Run 2: AUC = 0.5723\n",
            "Run 3: AUC = 0.5291\n",
            "Run 4: AUC = 0.6051\n",
            "Run 5: AUC = 0.5681\n",
            "Run 6: AUC = 0.6039\n",
            "Run 7: AUC = 0.5078\n",
            "Run 8: AUC = 0.4255\n",
            "Run 9: AUC = 0.5920\n",
            "Run 10: AUC = 0.4869\n",
            "\n",
            "Average AUC: 0.5500\n",
            "Standard Deviation of AUC: 0.0581\n"
          ]
        }
      ]
    },
    {
      "cell_type": "code",
      "source": [
        "# 14 financial ratios model\n",
        "model_14 = FraudDetectionMLP(14)"
      ],
      "metadata": {
        "id": "H76PC1HTQ6_O"
      },
      "execution_count": null,
      "outputs": []
    },
    {
      "cell_type": "code",
      "source": [
        "train_model(model_14, train_dl_14, num_epochs=150)"
      ],
      "metadata": {
        "id": "ywSA53JGQ6VW"
      },
      "execution_count": null,
      "outputs": []
    },
    {
      "cell_type": "code",
      "source": [
        "evaluate_model(model_14, test_dl_14)"
      ],
      "metadata": {
        "id": "vQLB84zRQ554"
      },
      "execution_count": null,
      "outputs": []
    },
    {
      "cell_type": "code",
      "source": [
        "auc_values_14 = []\n",
        "\n",
        "# Perform 10 training runs\n",
        "for i in range(10):\n",
        "    model_14 = FraudDetectionMLP(14)\n",
        "    train_model(model_14, train_dl_14, num_epochs=150)\n",
        "\n",
        "    # Evaluate the model\n",
        "    model_14.eval()\n",
        "    y_true = []\n",
        "    y_pred = []\n",
        "    with torch.no_grad():\n",
        "        for inputs, labels in test_dl_14:\n",
        "            outputs = model_14(inputs.float())\n",
        "            y_true.extend(labels.numpy())\n",
        "            y_pred.extend(outputs.numpy().flatten())\n",
        "    auc_14 = roc_auc_score(y_true, y_pred)\n",
        "    auc_values_14.append(auc_14)  # Append AUC to the list\n",
        "    print(f\"Run {i+1}: AUC = {auc_14:.4f}\")\n",
        "\n",
        "# Calculate the average AUC\n",
        "average_auc_14 = np.mean(auc_values_14)\n",
        "print(f\"\\nAverage AUC: {average_auc_14:.4f}\")\n",
        "\n",
        "auc_std_dev_14 = np.std(auc_values_14)\n",
        "print(f\"Standard Deviation of AUC: {auc_std_dev_14:.4f}\")"
      ],
      "metadata": {
        "colab": {
          "base_uri": "https://localhost:8080/"
        },
        "id": "toO5xJVqB1sF",
        "outputId": "b53cbf7b-1587-4b68-fb0f-9febd72b9069"
      },
      "execution_count": null,
      "outputs": [
        {
          "output_type": "stream",
          "name": "stdout",
          "text": [
            "Run 1: AUC = 0.6425\n",
            "Run 2: AUC = 0.6160\n",
            "Run 3: AUC = 0.6258\n",
            "Run 4: AUC = 0.6121\n",
            "Run 5: AUC = 0.6359\n",
            "Run 6: AUC = 0.6460\n",
            "Run 7: AUC = 0.5875\n",
            "Run 8: AUC = 0.6221\n",
            "Run 9: AUC = 0.6248\n",
            "Run 10: AUC = 0.6406\n",
            "\n",
            "Average AUC: 0.6253\n",
            "Standard Deviation of AUC: 0.0166\n"
          ]
        }
      ]
    }
  ]
}