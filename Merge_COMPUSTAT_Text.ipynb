{
  "nbformat": 4,
  "nbformat_minor": 0,
  "metadata": {
    "colab": {
      "provenance": []
    },
    "kernelspec": {
      "name": "python3",
      "display_name": "Python 3"
    },
    "language_info": {
      "name": "python"
    }
  },
  "cells": [
    {
      "cell_type": "code",
      "execution_count": null,
      "metadata": {
        "id": "GU7t0WRVHnM4",
        "colab": {
          "base_uri": "https://localhost:8080/"
        },
        "outputId": "2cbacc1a-9a3f-4eae-aa47-3d838294e59e"
      },
      "outputs": [
        {
          "output_type": "stream",
          "name": "stdout",
          "text": [
            "Drive already mounted at /content/drive/; to attempt to forcibly remount, call drive.mount(\"/content/drive/\", force_remount=True).\n"
          ]
        }
      ],
      "source": [
        "from google.colab import drive\n",
        "drive.mount('/content/drive/')"
      ]
    },
    {
      "cell_type": "code",
      "source": [
        "import pandas as pd\n",
        "import numpy as np"
      ],
      "metadata": {
        "id": "jBWq08aFa7R_"
      },
      "execution_count": null,
      "outputs": []
    },
    {
      "cell_type": "code",
      "source": [
        "df_c = pd.read_csv('/content/drive/MyDrive/Colab Notebooks/AFD/Bao_28_items_1990_2023_v3.csv')\n",
        "print(df_c.head())\n",
        "df_c_lenght= len(df_c)\n",
        "print(df_c_lenght)\n",
        "print(df_c.dtypes) # Check the data types"
      ],
      "metadata": {
        "id": "TjtR4AZma7gX"
      },
      "execution_count": null,
      "outputs": []
    },
    {
      "cell_type": "code",
      "source": [
        "df_t = pd.read_csv('/content/drive/MyDrive/Colab Notebooks/AFD/fraud_constr_dist.csv')\n",
        "print(df_t.head())\n",
        "df_t_lenght= len(df_t)\n",
        "print(df_t_lenght)"
      ],
      "metadata": {
        "id": "SQzpbToN0rNG"
      },
      "execution_count": null,
      "outputs": []
    },
    {
      "cell_type": "code",
      "source": [
        "# Padding cik in text data\n",
        "df_t['cik'] = df_t['cik'].astype(str).str.zfill(10)\n",
        "print(df_t)"
      ],
      "metadata": {
        "id": "A2Jjx9kroNBe"
      },
      "execution_count": null,
      "outputs": []
    },
    {
      "cell_type": "code",
      "source": [
        "# Create a new column by combining cik and year\n",
        "df_t['cik_year'] = df_t['cik'] + '_' + df_t['year'].astype(str)\n",
        "print(df_t)"
      ],
      "metadata": {
        "id": "SMXvLeDB4RR5"
      },
      "execution_count": null,
      "outputs": []
    },
    {
      "cell_type": "code",
      "source": [
        "# Count NaN values in the 'cik' column in compustat data\n",
        "nan_count_before = df_c['cik'].isna().sum()\n",
        "df_c = df_c.dropna(subset=['cik'])  # Drops row NaN cik\n",
        "nan_count_after = df_c['cik'].isna().sum()\n",
        "\n",
        "# Convert cik to integers to remove decimal points\n",
        "df_c['cik'] = df_c['cik'].astype(int)\n",
        "\n",
        "# Padding cik\n",
        "df_c['cik'] = df_c['cik'].astype(str).str.zfill(10)\n",
        "\n",
        "# Convert fyear to string\n",
        "df_c['fyear'] = df_c['fyear'].astype(str)\n",
        "\n",
        "# Create a new column by combining cik and fyear\n",
        "df_c['cik_fyear'] = df_c['cik'] + '_' + df_c['fyear']\n",
        "\n",
        "# Print the number of NaN values\n",
        "print(f'Number of NaN values in \"cik\" before preprocessing: {nan_count_before}')\n",
        "print(f'Number of NaN values in \"cik\" after preprocessing: {nan_count_after}')\n",
        "\n",
        "print(df_c)"
      ],
      "metadata": {
        "id": "JwWEeraW47u8"
      },
      "execution_count": null,
      "outputs": []
    },
    {
      "cell_type": "code",
      "source": [
        "# Merge dataframes on 'cik_fyear' and 'cik_year'\n",
        "merged_df = pd.merge(df_c, df_t, left_on='cik_fyear', right_on='cik_year')\n",
        "\n",
        "print(merged_df.keys())"
      ],
      "metadata": {
        "colab": {
          "base_uri": "https://localhost:8080/"
        },
        "id": "pPN5CQNB7GGS",
        "outputId": "a5112ba2-b7c7-4ac6-9b7a-f204d4e375d8"
      },
      "execution_count": null,
      "outputs": [
        {
          "output_type": "stream",
          "name": "stdout",
          "text": [
            "Index(['gvkey', 'datadate', 'fyear', 'indfmt', 'consol', 'popsrc', 'datafmt',\n",
            "       'tic', 'cusip', 'conm',\n",
            "       ...\n",
            "       'responsible', 'motive', 'conviction', 'applicant', 'guilty',\n",
            "       'reprehensible', 'threat', 'restricting', 'selfishness', 'cik_year'],\n",
            "      dtype='object', length=510)\n"
          ]
        }
      ]
    },
    {
      "cell_type": "code",
      "source": [
        "# Count the length of the merged dataframe\n",
        "merged_df_length = len(merged_df)\n",
        "print(f'Length merged dataframe: {merged_df_length}')"
      ],
      "metadata": {
        "colab": {
          "base_uri": "https://localhost:8080/"
        },
        "id": "ISvxK2x27Yo5",
        "outputId": "0139fc4d-f327-4f09-b1d9-023f6a904be5"
      },
      "execution_count": null,
      "outputs": [
        {
          "output_type": "stream",
          "name": "stdout",
          "text": [
            "Length merged dataframe: 1355\n"
          ]
        }
      ]
    },
    {
      "cell_type": "code",
      "source": [
        "# Create a new column combining 'cik' and 'year'\n",
        "df_t['ticker_year'] = df_t['ticker'] + '_' + df_t['year'].astype(str)\n",
        "\n",
        "# Convert 'fyear' to string\n",
        "df_c['fyear'] = df_c['fyear'].astype(str)\n",
        "\n",
        "# Create a new column combining 'cik' and 'fyear'\n",
        "df_c['tic_fyear'] = df_c['tic'] + '_' + df_c['fyear']\n",
        "\n",
        "# Merge dfs on ticker\n",
        "merged_df_ticker = pd.merge(df_c, df_t, left_on='tic_fyear', right_on='ticker_year')\n",
        "print(merged_df_ticker.keys())"
      ],
      "metadata": {
        "colab": {
          "base_uri": "https://localhost:8080/"
        },
        "id": "2dcta8Xd7j0G",
        "outputId": "401b1249-89ef-4d56-a5be-c6dbf5c93654"
      },
      "execution_count": null,
      "outputs": [
        {
          "output_type": "stream",
          "name": "stdout",
          "text": [
            "Index(['gvkey', 'datadate', 'fyear', 'indfmt', 'consol', 'popsrc', 'datafmt',\n",
            "       'tic', 'cusip', 'conm',\n",
            "       ...\n",
            "       'motive', 'conviction', 'applicant', 'guilty', 'reprehensible',\n",
            "       'threat', 'restricting', 'selfishness', 'cik_year', 'ticker_year'],\n",
            "      dtype='object', length=512)\n"
          ]
        }
      ]
    },
    {
      "cell_type": "code",
      "source": [
        "# Count the length of the merged dfs\n",
        "merged_df__ticker_length = len(merged_df_ticker)\n",
        "\n",
        "# Print the length of the merged dfs\n",
        "print(f'Length merged dataframe: {merged_df__ticker_length}')"
      ],
      "metadata": {
        "colab": {
          "base_uri": "https://localhost:8080/"
        },
        "id": "VQiq0xry8nKT",
        "outputId": "e40a1454-569a-4872-a1ef-8823e756fe22"
      },
      "execution_count": null,
      "outputs": [
        {
          "output_type": "stream",
          "name": "stdout",
          "text": [
            "Length merged dataframe: 31479\n"
          ]
        }
      ]
    },
    {
      "cell_type": "code",
      "source": [
        "# Identify ticker years in df_t but not in merged_df_ticker\n",
        "missing_ticker_years = df_t[~df_t['ticker_year'].isin(merged_df_ticker['ticker_year'])]\n",
        "\n",
        "# Export\n",
        "missing_ticker_years.to_csv('/content/drive/MyDrive/Colab Notebooks/AFD/missing_ticker_years.csv', index=False)"
      ],
      "metadata": {
        "id": "tYwFpCbM8V2U"
      },
      "execution_count": null,
      "outputs": []
    },
    {
      "cell_type": "code",
      "source": [
        "# Read the cik ticker sec mapping\n",
        "df_m = pd.read_csv('/content/drive/MyDrive/Colab Notebooks/AFD/company_tickers.csv')\n",
        "print(df_m)"
      ],
      "metadata": {
        "colab": {
          "base_uri": "https://localhost:8080/"
        },
        "id": "OVy5c93uNfhI",
        "outputId": "624f214b-c63a-4a53-c3c7-0ff755306306"
      },
      "execution_count": null,
      "outputs": [
        {
          "output_type": "stream",
          "name": "stdout",
          "text": [
            "       cik_str ticker                           title\n",
            "0       320193   AAPL                      Apple Inc.\n",
            "1       789019   MSFT                  MICROSOFT CORP\n",
            "2      1652044  GOOGL                   Alphabet Inc.\n",
            "3      1018724   AMZN                  AMAZON COM INC\n",
            "4      1045810   NVDA                     NVIDIA CORP\n",
            "...        ...    ...                             ...\n",
            "10904  1823882  MIMWW  Airspan Networks Holdings Inc.\n",
            "10905   874710  AHPIQ  ALLIED HEALTHCARE PRODUCTS INC\n",
            "10906  1843862  EOCWF    Elliott Opportunity II Corp.\n",
            "10907  1062750  SAAYY                SAIPEM S P A /FI\n",
            "10908  1733861   RTEZ                    REST EZ Inc.\n",
            "\n",
            "[10909 rows x 3 columns]\n"
          ]
        }
      ]
    },
    {
      "cell_type": "code",
      "source": [
        "# create a new df with the new cik from the mapping\n",
        "merged_df3 = pd.merge(df_t, df_m[['ticker', 'cik_str']], on='ticker', how='left')\n"
      ],
      "metadata": {
        "id": "cu0EqLy1NpQT"
      },
      "execution_count": null,
      "outputs": []
    },
    {
      "cell_type": "code",
      "source": [
        "print(merged_df3)"
      ],
      "metadata": {
        "id": "cQhhzuRJOD_g",
        "colab": {
          "base_uri": "https://localhost:8080/"
        },
        "outputId": "0c27539a-5daa-4b68-9393-6b0bd888abab"
      },
      "execution_count": null,
      "outputs": [
        {
          "output_type": "stream",
          "name": "stdout",
          "text": [
            "       Unnamed: 0     id ticker         cik  year  accession_number  \\\n",
            "0               0      1   AAPL  0000320193  2017                70   \n",
            "1               1      2   AAPL  0000320193  2018               145   \n",
            "2               2      3   AAPL  0000320193  2019               119   \n",
            "3               3      4   AAPL  0000320193  2020                96   \n",
            "4               4      5   AAPL  0000320193  2021               105   \n",
            "...           ...    ...    ...         ...   ...               ...   \n",
            "48828       48828  48829  TNONW  0001575872  2023               346   \n",
            "48829       48829  48830  MIMWW  0001829126  2021              2055   \n",
            "48830       48830  48831  MIMWW  0001829126  2022              7958   \n",
            "48831       48831  48832   RTEZ  0001185185  2022               827   \n",
            "48832       48832  48833   RTEZ  0001185185  2023               944   \n",
            "\n",
            "       mda_section                              target_word_frequency  \\\n",
            "0                0  {\"recklessness\": 0, \"guarantor\": 0, \"hazard\": ...   \n",
            "1                0  {\"recklessness\": 0, \"guarantor\": 0, \"hazard\": ...   \n",
            "2                0  {\"recklessness\": 0, \"guarantor\": 0, \"hazard\": ...   \n",
            "3                0  {\"recklessness\": 0, \"guarantor\": 0, \"hazard\": ...   \n",
            "4                0  {\"recklessness\": 0, \"guarantor\": 0, \"hazard\": ...   \n",
            "...            ...                                                ...   \n",
            "48828            0  {\"recklessness\": 0, \"guarantor\": 0, \"hazard\": ...   \n",
            "48829            0  {\"recklessness\": 0, \"guarantor\": 0, \"hazard\": ...   \n",
            "48830            0  {\"recklessness\": 0, \"guarantor\": 0, \"hazard\": ...   \n",
            "48831            0  {\"recklessness\": 0, \"guarantor\": 0, \"hazard\": ...   \n",
            "48832            0  {\"recklessness\": 0, \"guarantor\": 0, \"hazard\": ...   \n",
            "\n",
            "                          created_at  recklessness  ...  conviction  \\\n",
            "0      2023-10-16 20:10:30.994056+00             0  ...           0   \n",
            "1      2023-10-16 20:10:30.994056+00             0  ...           0   \n",
            "2      2023-10-16 20:10:30.994056+00             0  ...           0   \n",
            "3      2023-10-16 20:10:30.994056+00             0  ...           0   \n",
            "4      2023-10-16 20:10:30.994056+00             0  ...           0   \n",
            "...                              ...           ...  ...         ...   \n",
            "48828  2023-10-21 09:30:41.203302+00             0  ...           0   \n",
            "48829   2023-10-21 09:30:59.50148+00             0  ...           0   \n",
            "48830   2023-10-21 09:30:59.50148+00             0  ...           0   \n",
            "48831  2023-10-21 09:31:20.411612+00             0  ...           0   \n",
            "48832  2023-10-21 09:31:20.411612+00             0  ...           0   \n",
            "\n",
            "       applicant  guilty  reprehensible  threat  restricting  selfishness  \\\n",
            "0              0       0              0       0            0            0   \n",
            "1              0       0              0       0            0            0   \n",
            "2              0       0              0       0            0            0   \n",
            "3              0       0              0       0            0            0   \n",
            "4              0       0              0       0            0            0   \n",
            "...          ...     ...            ...     ...          ...          ...   \n",
            "48828          0       0              0       0            1            0   \n",
            "48829          0       0              0       0            1            0   \n",
            "48830          0       0              0       0            0            0   \n",
            "48831          0       0              0       0            0            0   \n",
            "48832          0       0              0       0            0            0   \n",
            "\n",
            "              cik_year  ticker_year  cik_str  \n",
            "0      0000320193_2017    AAPL_2017   320193  \n",
            "1      0000320193_2018    AAPL_2018   320193  \n",
            "2      0000320193_2019    AAPL_2019   320193  \n",
            "3      0000320193_2020    AAPL_2020   320193  \n",
            "4      0000320193_2021    AAPL_2021   320193  \n",
            "...                ...          ...      ...  \n",
            "48828  0001575872_2023   TNONW_2023  1560293  \n",
            "48829  0001829126_2021   MIMWW_2021  1823882  \n",
            "48830  0001829126_2022   MIMWW_2022  1823882  \n",
            "48831  0001185185_2022    RTEZ_2022  1733861  \n",
            "48832  0001185185_2023    RTEZ_2023  1733861  \n",
            "\n",
            "[48833 rows x 466 columns]\n"
          ]
        }
      ]
    },
    {
      "cell_type": "code",
      "source": [
        "merged_df3.to_csv('/content/drive/MyDrive/Colab Notebooks/AFD/merged_new_cik.csv')"
      ],
      "metadata": {
        "id": "AVAcxHQJP3-3"
      },
      "execution_count": null,
      "outputs": []
    },
    {
      "cell_type": "code",
      "source": [
        "# Read the new text file with the new cik and the compustat data\n",
        "df_t2 = pd.read_csv('/content/drive/MyDrive/Colab Notebooks/AFD/merged_new_cik.csv')\n",
        "df_c = pd.read_csv('/content/drive/MyDrive/Colab Notebooks/AFD/Bao_28_items_1990_2023_v3.csv')\n",
        "print(df_t2.keys())\n",
        "print(df_c.keys())"
      ],
      "metadata": {
        "colab": {
          "base_uri": "https://localhost:8080/"
        },
        "id": "lW4pc4xsQP9O",
        "outputId": "6d05f06c-8b62-4d7a-8426-3995293bfdc1"
      },
      "execution_count": null,
      "outputs": [
        {
          "output_type": "stream",
          "name": "stdout",
          "text": [
            "Index(['Unnamed: 0.1', 'Unnamed: 0', 'id', 'ticker', 'cik', 'year',\n",
            "       'accession_number', 'mda_section', 'target_word_frequency',\n",
            "       'created_at',\n",
            "       ...\n",
            "       'conviction', 'applicant', 'guilty', 'reprehensible', 'threat',\n",
            "       'restricting', 'selfishness', 'cik_year', 'ticker_year', 'cik_str'],\n",
            "      dtype='object', length=467)\n",
            "Index(['gvkey', 'datadate', 'fyear', 'indfmt', 'consol', 'popsrc', 'datafmt',\n",
            "       'tic', 'cusip', 'conm', 'curcd', 'fyr', 'act', 'ap', 'at', 'ceq', 'che',\n",
            "       'cogs', 'csho', 'dlc', 'dltis', 'dltt', 'dp', 'ib', 'invt', 'ivao',\n",
            "       'ivst', 'lct', 'lt', 'ni', 'ppegt', 'ppent', 'pstk', 're', 'rect',\n",
            "       'sale', 'sstk', 'txp', 'txt', 'xint', 'cik', 'costat', 'prcc_f',\n",
            "       'conml', 'sic'],\n",
            "      dtype='object')\n"
          ]
        }
      ]
    },
    {
      "cell_type": "code",
      "source": [
        "# Drop rows with NaN 'cik' and convert to int\n",
        "df_c = df_c.dropna(subset=['cik'])\n",
        "df_c['cik'] = pd.to_numeric(df_c['cik'], errors='coerce')\n",
        "df_c = df_c.dropna(subset=['cik'])\n",
        "df_c['cik'] = df_c['cik'].astype(int)"
      ],
      "metadata": {
        "id": "Nt5jvOUVUcCm",
        "colab": {
          "base_uri": "https://localhost:8080/"
        },
        "outputId": "dfa2c3cd-db1e-4f34-cdaa-7f84c22951df"
      },
      "execution_count": null,
      "outputs": [
        {
          "output_type": "stream",
          "name": "stderr",
          "text": [
            "<ipython-input-18-03da7d4bf7ae>:3: SettingWithCopyWarning: \n",
            "A value is trying to be set on a copy of a slice from a DataFrame.\n",
            "Try using .loc[row_indexer,col_indexer] = value instead\n",
            "\n",
            "See the caveats in the documentation: https://pandas.pydata.org/pandas-docs/stable/user_guide/indexing.html#returning-a-view-versus-a-copy\n",
            "  df_c['cik'] = pd.to_numeric(df_c['cik'], errors='coerce')\n"
          ]
        }
      ]
    },
    {
      "cell_type": "code",
      "source": [
        "# Padding cik\n",
        "df_t2['cik_str'] = df_t2['cik_str'].astype(str).str.zfill(10)\n",
        "df_c['cik'] = df_c['cik'].astype(str).str.zfill(10)"
      ],
      "metadata": {
        "id": "JY_07c5lQnkR"
      },
      "execution_count": null,
      "outputs": []
    },
    {
      "cell_type": "code",
      "source": [
        "# Convert year to string\n",
        "df_t2['year'] = df_t2['year'].astype(str)\n",
        "df_c['fyear'] = df_c['fyear'].astype(str)"
      ],
      "metadata": {
        "id": "v8gn4K9tRMJ_"
      },
      "execution_count": null,
      "outputs": []
    },
    {
      "cell_type": "code",
      "source": [
        "# Create new column cik year in both df\n",
        "df_t2['cik_year2'] = df_t2['cik_str'] + '_' + df_t2['year']\n",
        "df_c['cik_year2'] = df_c['cik'] + '_' + df_c['fyear']\n",
        "\n",
        "print(df_t2)\n",
        "print(df_c)\n"
      ],
      "metadata": {
        "id": "dpis2fERRXEM",
        "colab": {
          "base_uri": "https://localhost:8080/"
        },
        "outputId": "1d6d0abb-b07d-46c1-c54f-970f994c22aa"
      },
      "execution_count": null,
      "outputs": [
        {
          "output_type": "stream",
          "name": "stdout",
          "text": [
            "       Unnamed: 0.1  Unnamed: 0     id ticker      cik  year  \\\n",
            "0                 0           0      1   AAPL   320193  2017   \n",
            "1                 1           1      2   AAPL   320193  2018   \n",
            "2                 2           2      3   AAPL   320193  2019   \n",
            "3                 3           3      4   AAPL   320193  2020   \n",
            "4                 4           4      5   AAPL   320193  2021   \n",
            "...             ...         ...    ...    ...      ...   ...   \n",
            "48828         48828       48828  48829  TNONW  1575872  2023   \n",
            "48829         48829       48829  48830  MIMWW  1829126  2021   \n",
            "48830         48830       48830  48831  MIMWW  1829126  2022   \n",
            "48831         48831       48831  48832   RTEZ  1185185  2022   \n",
            "48832         48832       48832  48833   RTEZ  1185185  2023   \n",
            "\n",
            "       accession_number  mda_section  \\\n",
            "0                    70            0   \n",
            "1                   145            0   \n",
            "2                   119            0   \n",
            "3                    96            0   \n",
            "4                   105            0   \n",
            "...                 ...          ...   \n",
            "48828               346            0   \n",
            "48829              2055            0   \n",
            "48830              7958            0   \n",
            "48831               827            0   \n",
            "48832               944            0   \n",
            "\n",
            "                                   target_word_frequency  \\\n",
            "0      {\"recklessness\": 0, \"guarantor\": 0, \"hazard\": ...   \n",
            "1      {\"recklessness\": 0, \"guarantor\": 0, \"hazard\": ...   \n",
            "2      {\"recklessness\": 0, \"guarantor\": 0, \"hazard\": ...   \n",
            "3      {\"recklessness\": 0, \"guarantor\": 0, \"hazard\": ...   \n",
            "4      {\"recklessness\": 0, \"guarantor\": 0, \"hazard\": ...   \n",
            "...                                                  ...   \n",
            "48828  {\"recklessness\": 0, \"guarantor\": 0, \"hazard\": ...   \n",
            "48829  {\"recklessness\": 0, \"guarantor\": 0, \"hazard\": ...   \n",
            "48830  {\"recklessness\": 0, \"guarantor\": 0, \"hazard\": ...   \n",
            "48831  {\"recklessness\": 0, \"guarantor\": 0, \"hazard\": ...   \n",
            "48832  {\"recklessness\": 0, \"guarantor\": 0, \"hazard\": ...   \n",
            "\n",
            "                          created_at  ...  applicant  guilty  reprehensible  \\\n",
            "0      2023-10-16 20:10:30.994056+00  ...          0       0              0   \n",
            "1      2023-10-16 20:10:30.994056+00  ...          0       0              0   \n",
            "2      2023-10-16 20:10:30.994056+00  ...          0       0              0   \n",
            "3      2023-10-16 20:10:30.994056+00  ...          0       0              0   \n",
            "4      2023-10-16 20:10:30.994056+00  ...          0       0              0   \n",
            "...                              ...  ...        ...     ...            ...   \n",
            "48828  2023-10-21 09:30:41.203302+00  ...          0       0              0   \n",
            "48829   2023-10-21 09:30:59.50148+00  ...          0       0              0   \n",
            "48830   2023-10-21 09:30:59.50148+00  ...          0       0              0   \n",
            "48831  2023-10-21 09:31:20.411612+00  ...          0       0              0   \n",
            "48832  2023-10-21 09:31:20.411612+00  ...          0       0              0   \n",
            "\n",
            "       threat  restricting  selfishness         cik_year  ticker_year  \\\n",
            "0           0            0            0  0000320193_2017    AAPL_2017   \n",
            "1           0            0            0  0000320193_2018    AAPL_2018   \n",
            "2           0            0            0  0000320193_2019    AAPL_2019   \n",
            "3           0            0            0  0000320193_2020    AAPL_2020   \n",
            "4           0            0            0  0000320193_2021    AAPL_2021   \n",
            "...       ...          ...          ...              ...          ...   \n",
            "48828       0            1            0  0001575872_2023   TNONW_2023   \n",
            "48829       0            1            0  0001829126_2021   MIMWW_2021   \n",
            "48830       0            0            0  0001829126_2022   MIMWW_2022   \n",
            "48831       0            0            0  0001185185_2022    RTEZ_2022   \n",
            "48832       0            0            0  0001185185_2023    RTEZ_2023   \n",
            "\n",
            "          cik_str        cik_year2  \n",
            "0      0000320193  0000320193_2017  \n",
            "1      0000320193  0000320193_2018  \n",
            "2      0000320193  0000320193_2019  \n",
            "3      0000320193  0000320193_2020  \n",
            "4      0000320193  0000320193_2021  \n",
            "...           ...              ...  \n",
            "48828  0001560293  0001560293_2023  \n",
            "48829  0001823882  0001823882_2021  \n",
            "48830  0001823882  0001823882_2022  \n",
            "48831  0001733861  0001733861_2022  \n",
            "48832  0001733861  0001733861_2023  \n",
            "\n",
            "[48833 rows x 468 columns]\n",
            "         gvkey    datadate fyear indfmt consol popsrc datafmt    tic  \\\n",
            "0         1003  1990-01-31  1989   INDL      C      D     STD   ANTQ   \n",
            "1         1004  1990-05-31  1989   INDL      C      D     STD    AIR   \n",
            "2         1004  1991-05-31  1990   INDL      C      D     STD    AIR   \n",
            "3         1004  1992-05-31  1991   INDL      C      D     STD    AIR   \n",
            "4         1004  1993-05-31  1992   INDL      C      D     STD    AIR   \n",
            "...        ...         ...   ...    ...    ...    ...     ...    ...   \n",
            "327843  352262  2022-12-31  2022   INDL      C      D     STD   CLCO   \n",
            "327844  353444  2021-12-31  2021   INDL      C      D     STD    HLN   \n",
            "327845  353444  2022-12-31  2022   INDL      C      D     STD    HLN   \n",
            "327846  353945  2021-12-31  2021   INDL      C      D     STD  ACLLY   \n",
            "327847  353945  2022-12-31  2022   INDL      C      D     STD  ACLLY   \n",
            "\n",
            "            cusip                      conm  ...     sstk      txp      txt  \\\n",
            "0       000354100     A.A. IMPORTING CO INC  ...    0.000    0.000   -1.370   \n",
            "1       000361105                  AAR CORP  ...    0.000    3.040   12.500   \n",
            "2       000361105                  AAR CORP  ...    0.000    4.019    6.550   \n",
            "3       000361105                  AAR CORP  ...    0.000    4.981    3.600   \n",
            "4       000361105                  AAR CORP  ...    0.000    2.394   -2.200   \n",
            "...           ...                       ...  ...      ...      ...      ...   \n",
            "327843  G2415A113          COOL COMPANY LTD  ...  432.635    0.396    0.111   \n",
            "327844  405552100                HALEON PLC  ...    0.000  273.528  266.758   \n",
            "327845  405552100                HALEON PLC  ...    0.000  253.029  601.245   \n",
            "327846  00449R109  ACCELLERON INDUSTRIES AG  ...    0.000   28.557   39.897   \n",
            "327847  00449R109  ACCELLERON INDUSTRIES AG  ...    0.000    9.156   26.691   \n",
            "\n",
            "           xint         cik  costat     prcc_f                     conml  \\\n",
            "0         0.702  0000730052       I   0.125000     A.A. Importing Co Inc   \n",
            "1         9.989  0000001750       A  21.249998                  AAR Corp   \n",
            "2        10.073  0000001750       A  14.124999                  AAR Corp   \n",
            "3         8.356  0000001750       A  12.874998                  AAR Corp   \n",
            "4         8.107  0000001750       A  13.499999                  AAR Corp   \n",
            "...         ...         ...     ...        ...                       ...   \n",
            "327843   22.072  0001944057       A        NaN          Cool Company Ltd   \n",
            "327844   21.665  0001900304       A        NaN                Haleon plc   \n",
            "327845  306.044  0001900304       A   8.000000                Haleon plc   \n",
            "327846    1.379  0001948862       A        NaN  Accelleron Industries AG   \n",
            "327847    0.555  0001948862       A  20.693000  Accelleron Industries AG   \n",
            "\n",
            "         sic        cik_year2  \n",
            "0       5712  0000730052_1989  \n",
            "1       5080  0000001750_1989  \n",
            "2       5080  0000001750_1990  \n",
            "3       5080  0000001750_1991  \n",
            "4       5080  0000001750_1992  \n",
            "...      ...              ...  \n",
            "327843  4400  0001944057_2022  \n",
            "327844  2834  0001900304_2021  \n",
            "327845  2834  0001900304_2022  \n",
            "327846  3621  0001948862_2021  \n",
            "327847  3621  0001948862_2022  \n",
            "\n",
            "[289382 rows x 46 columns]\n"
          ]
        }
      ]
    },
    {
      "cell_type": "code",
      "source": [
        "# Create both files by cik\n",
        "merged_df_cik2 = pd.merge(df_c, df_t2, left_on='cik_year2', right_on='cik_year2')\n",
        "print(merged_df_cik2.keys())\n",
        "\n",
        "merged_df_cik2_length = len(merged_df_cik2)\n",
        "print(f'Length merged dataframe: {merged_df_cik2_length}')"
      ],
      "metadata": {
        "colab": {
          "base_uri": "https://localhost:8080/"
        },
        "id": "YnjuUhzJSDE4",
        "outputId": "532e2d17-8be2-4e7f-939c-090f49e0230f"
      },
      "execution_count": null,
      "outputs": [
        {
          "output_type": "stream",
          "name": "stdout",
          "text": [
            "Index(['gvkey', 'datadate', 'fyear', 'indfmt', 'consol', 'popsrc', 'datafmt',\n",
            "       'tic', 'cusip', 'conm',\n",
            "       ...\n",
            "       'conviction', 'applicant', 'guilty', 'reprehensible', 'threat',\n",
            "       'restricting', 'selfishness', 'cik_year', 'ticker_year', 'cik_str'],\n",
            "      dtype='object', length=513)\n",
            "Length merged dataframe: 37977\n"
          ]
        }
      ]
    },
    {
      "cell_type": "code",
      "source": [
        "# Identify cik2 years in df_t but not in merged_df_cik2 and export\n",
        "missing_cik_years2 = df_t2[~df_t2['cik_year2'].isin(merged_df_cik2['cik_year2'])]\n",
        "\n",
        "missing_cik_years2.to_csv('/content/drive/MyDrive/Colab Notebooks/AFD/missing_cik_years2.csv', index=False)"
      ],
      "metadata": {
        "id": "fdkH3oYwV58u"
      },
      "execution_count": null,
      "outputs": []
    },
    {
      "cell_type": "code",
      "source": [
        "# Compare the 37977 cik matches by ticker now\n",
        "# Create a new column combining 'cik' and 'fyear'\n",
        "df_c = pd.read_csv('/content/drive/MyDrive/Colab Notebooks/AFD/Bao_28_items_1990_2023_v3.csv')\n",
        "df_c['fyear'] = df_c['fyear'].astype(str)\n",
        "df_c['tic_fyear'] = df_c['tic'] + '_' + df_c['fyear']\n",
        "ticker_merge = pd.merge(missing_cik_years2, df_c, left_on='ticker_year', right_on='tic_fyear')\n",
        "print(ticker_merge)\n",
        "\n",
        "ticker_merge_length = len(ticker_merge)\n",
        "print(f'Length merged dataframe: {ticker_merge_length}')"
      ],
      "metadata": {
        "colab": {
          "base_uri": "https://localhost:8080/"
        },
        "id": "NnLjFBt7cMRu",
        "outputId": "9da0e37c-c271-454c-cae7-371e00f4488c"
      },
      "execution_count": null,
      "outputs": [
        {
          "output_type": "stream",
          "name": "stdout",
          "text": [
            "     Unnamed: 0.1  Unnamed: 0     id ticker    cik_x  year  accession_number  \\\n",
            "0            1665        1665   1666    GLD   950123  2008             16306   \n",
            "1            1666        1666   1667    GLD   950123  2009             66100   \n",
            "2            1667        1667   1668    GLD   950123  2010            107692   \n",
            "3            1668        1668   1669    GLD   950123  2011            100014   \n",
            "4            1669        1669   1670    GLD   950136  2005              8184   \n",
            "..            ...         ...    ...    ...      ...   ...               ...   \n",
            "683         47172       47172  47173    SCO  1193125  2018             67452   \n",
            "684         47173       47173  47174    SCO  1193125  2019             60564   \n",
            "685         47174       47174  47175    SCO  1193125  2020             56815   \n",
            "686         47175       47175  47176    SCO  1193125  2021             49128   \n",
            "687         47176       47176  47177    SCO  1193125  2022             54559   \n",
            "\n",
            "     mda_section                              target_word_frequency  \\\n",
            "0              0  {\"recklessness\": 0, \"guarantor\": 0, \"hazard\": ...   \n",
            "1              0  {\"recklessness\": 0, \"guarantor\": 0, \"hazard\": ...   \n",
            "2              0  {\"recklessness\": 0, \"guarantor\": 0, \"hazard\": ...   \n",
            "3              0  {\"recklessness\": 0, \"guarantor\": 0, \"hazard\": ...   \n",
            "4              0  {\"recklessness\": 0, \"guarantor\": 0, \"hazard\": ...   \n",
            "..           ...                                                ...   \n",
            "683            0  {\"recklessness\": 0, \"guarantor\": 0, \"hazard\": ...   \n",
            "684            0  {\"recklessness\": 0, \"guarantor\": 0, \"hazard\": ...   \n",
            "685            0  {\"recklessness\": 0, \"guarantor\": 0, \"hazard\": ...   \n",
            "686            0  {\"recklessness\": 0, \"guarantor\": 0, \"hazard\": ...   \n",
            "687            0  {\"recklessness\": 0, \"guarantor\": 0, \"hazard\": ...   \n",
            "\n",
            "                        created_at  ...  sstk  txp  txt  xint  cik_y  costat  \\\n",
            "0     2023-10-17 00:52:50.01319+00  ...   NaN  NaN  NaN   NaN    NaN       A   \n",
            "1     2023-10-17 00:52:50.01319+00  ...   NaN  NaN  NaN   NaN    NaN       A   \n",
            "2     2023-10-17 00:52:50.01319+00  ...   NaN  NaN  NaN   NaN    NaN       A   \n",
            "3     2023-10-17 00:52:50.01319+00  ...   NaN  NaN  NaN   NaN    NaN       A   \n",
            "4     2023-10-17 00:52:50.01319+00  ...   NaN  NaN  NaN   NaN    NaN       A   \n",
            "..                             ...  ...   ...  ...  ...   ...    ...     ...   \n",
            "683  2023-10-21 04:04:55.912516+00  ...   NaN  NaN  NaN   NaN    NaN       A   \n",
            "684  2023-10-21 04:04:55.912516+00  ...   NaN  NaN  NaN   NaN    NaN       A   \n",
            "685  2023-10-21 04:04:55.912516+00  ...   NaN  NaN  NaN   NaN    NaN       A   \n",
            "686  2023-10-21 04:04:55.912516+00  ...   NaN  NaN  NaN   NaN    NaN       A   \n",
            "687  2023-10-21 04:04:55.912516+00  ...   NaN  NaN  NaN   NaN    NaN       A   \n",
            "\n",
            "     prcc_f                                     conml   sic  tic_fyear  \n",
            "0     85.07                           SPDR Gold Trust  6722   GLD_2008  \n",
            "1     98.85                           SPDR Gold Trust  6722   GLD_2009  \n",
            "2    127.91                           SPDR Gold Trust  6722   GLD_2010  \n",
            "3    158.06                           SPDR Gold Trust  6722   GLD_2011  \n",
            "4     46.70                           SPDR Gold Trust  6722   GLD_2005  \n",
            "..      ...                                       ...   ...        ...  \n",
            "683   29.28  ProShares UltraShort Bloomberg Crude Oil  6722   SCO_2018  \n",
            "684   12.15  ProShares UltraShort Bloomberg Crude Oil  6722   SCO_2019  \n",
            "685   11.64  ProShares UltraShort Bloomberg Crude Oil  6722   SCO_2020  \n",
            "686   12.75  ProShares UltraShort Bloomberg Crude Oil  6722   SCO_2021  \n",
            "687   23.85  ProShares UltraShort Bloomberg Crude Oil  6722   SCO_2022  \n",
            "\n",
            "[688 rows x 514 columns]\n",
            "Length merged dataframe: 688\n"
          ]
        }
      ]
    },
    {
      "cell_type": "code",
      "source": [
        "cik_ticker_match_df = merged_df_cik2.append(ticker_merge, ignore_index=True)\n",
        "cik_ticker_match_df.to_csv('/content/drive/MyDrive/Colab Notebooks/AFD/cik_ticker_match_df.csv')"
      ],
      "metadata": {
        "colab": {
          "base_uri": "https://localhost:8080/"
        },
        "id": "FnsDEUTUwWvK",
        "outputId": "d93e0e51-d0c0-4c0c-a185-dbe397de73b2"
      },
      "execution_count": null,
      "outputs": [
        {
          "output_type": "stream",
          "name": "stderr",
          "text": [
            "<ipython-input-25-21657c710bca>:1: FutureWarning: The frame.append method is deprecated and will be removed from pandas in a future version. Use pandas.concat instead.\n",
            "  cik_ticker_match_df = merged_df_cik2.append(ticker_merge, ignore_index=True)\n"
          ]
        }
      ]
    },
    {
      "cell_type": "code",
      "source": [
        "cik_ticker_match_df_length = len(cik_ticker_match_df)\n",
        "print(f'Length merged dataframe: {cik_ticker_match_df_length}')"
      ],
      "metadata": {
        "colab": {
          "base_uri": "https://localhost:8080/"
        },
        "id": "f_UV9qMGGHnG",
        "outputId": "9d25f11f-f1b1-44c8-dc05-d66e33cd94f7"
      },
      "execution_count": null,
      "outputs": [
        {
          "output_type": "stream",
          "name": "stdout",
          "text": [
            "Length merged dataframe: 38665\n"
          ]
        }
      ]
    },
    {
      "cell_type": "code",
      "source": [
        "count_2023 = len(missing_cik_years2[missing_cik_years2['year'] == '2023'])\n",
        "print(f'Number of rows with \"year\" equal to 2023: {count_2023}')"
      ],
      "metadata": {
        "colab": {
          "base_uri": "https://localhost:8080/"
        },
        "id": "otJlu6E1e4LL",
        "outputId": "648153bb-2f3e-4638-caa9-bacd32dcdb91"
      },
      "execution_count": null,
      "outputs": [
        {
          "output_type": "stream",
          "name": "stdout",
          "text": [
            "Number of rows with \"year\" equal to 2023: 3846\n"
          ]
        }
      ]
    }
  ]
}