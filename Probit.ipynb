{
  "nbformat": 4,
  "nbformat_minor": 0,
  "metadata": {
    "colab": {
      "provenance": []
    },
    "kernelspec": {
      "name": "python3",
      "display_name": "Python 3"
    },
    "language_info": {
      "name": "python"
    }
  },
  "cells": [
    {
      "cell_type": "code",
      "source": [
        "from google.colab import drive\n",
        "drive.mount('/content/drive')"
      ],
      "metadata": {
        "colab": {
          "base_uri": "https://localhost:8080/"
        },
        "id": "RH_kR14vUQMa",
        "outputId": "28617972-02e0-41d4-87b8-6370063b896e"
      },
      "execution_count": null,
      "outputs": [
        {
          "output_type": "stream",
          "name": "stdout",
          "text": [
            "Mounted at /content/drive\n"
          ]
        }
      ]
    },
    {
      "cell_type": "code",
      "execution_count": null,
      "metadata": {
        "id": "nZpfenki4h6k"
      },
      "outputs": [],
      "source": [
        "import numpy as np\n",
        "import pandas as pd\n",
        "import statsmodels.api as sm\n",
        "from sklearn.metrics import accuracy_score, roc_auc_score\n",
        "from pandas import read_csv\n"
      ]
    },
    {
      "cell_type": "code",
      "source": [
        "X_train_42_df = pd.read_csv('/content/drive/MyDrive/Colab Notebooks/AFD/merged_train_data.csv')\n",
        "X_test_42_df = pd.read_csv('/content/drive/MyDrive/Colab Notebooks/AFD/merged_test_data.csv')\n",
        "\n",
        "X_train_28_df = pd.read_csv('/content/drive/MyDrive/Colab Notebooks/AFD/merged_train_data_28.csv')\n",
        "X_test_28_df = pd.read_csv('/content/drive/MyDrive/Colab Notebooks/AFD/merged_test_data_28.csv')\n",
        "\n",
        "X_train_14_df = pd.read_csv('/content/drive/MyDrive/Colab Notebooks/AFD/merged_train_data_14.csv')\n",
        "X_test_14_df = pd.read_csv('/content/drive/MyDrive/Colab Notebooks/AFD/merged_test_data_14.csv')"
      ],
      "metadata": {
        "id": "vaHsmsvoQmxa"
      },
      "execution_count": null,
      "outputs": []
    },
    {
      "cell_type": "code",
      "source": [
        "# Extract features (X) and target variable (y) for training and testing for the 42 features\n",
        "X_train_42 = X_train_42_df[['act', 'ap', 'at', 'ceq', 'che', 'cogs', 'csho', 'dlc', 'dltis', 'dltt', 'dp', 'ib',\n",
        "                       'invt', 'ivao', 'ivst', 'lct', 'lt', 'ni', 'ppegt', 'pstk', 're', 'rect', 'sale', 'sstk',\n",
        "                       'txp', 'txt', 'xint','prcc_f', 'dch_wc', 'ch_rsst', 'dch_rec', 'dch_inv', 'soft_assets',\n",
        "                       'ch_cs', 'ch_cm', 'ch_roa', 'bm', 'dpi', 'reoa', 'EBIT', 'ch_fcf', 'issue']]\n",
        "y_train_42 = X_train_42_df[['misstate']]\n",
        "\n",
        "X_test_42 = X_test_42_df[['act', 'ap', 'at', 'ceq', 'che', 'cogs', 'csho', 'dlc', 'dltis', 'dltt', 'dp', 'ib',\n",
        "                       'invt', 'ivao', 'ivst', 'lct', 'lt', 'ni', 'ppegt', 'pstk', 're', 'rect', 'sale', 'sstk',\n",
        "                       'txp', 'txt', 'xint','prcc_f', 'dch_wc', 'ch_rsst', 'dch_rec', 'dch_inv', 'soft_assets',\n",
        "                       'ch_cs', 'ch_cm', 'ch_roa', 'bm', 'dpi', 'reoa', 'EBIT', 'ch_fcf', 'issue']]\n",
        "y_test_42 = X_test_42_df[['misstate']]\n",
        "\n",
        "# Extract features (X) and target variable (y) for training and testing for 28 raw items\n",
        "X_train_28 = X_train_28_df[['act', 'ap', 'at', 'ceq', 'che', 'cogs', 'csho', 'dlc', 'dltis', 'dltt', 'dp', 'ib',\n",
        "                       'invt', 'ivao', 'ivst', 'lct', 'lt', 'ni', 'ppegt', 'pstk', 're', 'rect', 'sale', 'sstk',\n",
        "                       'txp', 'txt', 'xint', 'prcc_f']]\n",
        "y_train_28 = X_train_28_df[['misstate']]\n",
        "\n",
        "X_test_28 = X_test_28_df[['act', 'ap', 'at', 'ceq', 'che', 'cogs', 'csho', 'dlc', 'dltis', 'dltt', 'dp', 'ib',\n",
        "                       'invt', 'ivao', 'ivst', 'lct', 'lt', 'ni', 'ppegt', 'pstk', 're', 'rect', 'sale', 'sstk',\n",
        "                       'txp', 'txt', 'xint', 'prcc_f']]\n",
        "y_test_28 = X_test_28_df[['misstate']]\n",
        "\n",
        "# Extract features (X) and target variable (y) for training and testing for 14 financial ratios\n",
        "X_train_14 = X_train_14_df[['dch_wc', 'ch_rsst', 'dch_rec', 'dch_inv', 'soft_assets', 'ch_cs', 'ch_cm', 'ch_roa', 'bm',\n",
        "                          'dpi', 'reoa', 'EBIT', 'ch_fcf', 'issue']]\n",
        "y_train_14 = X_train_14_df[['misstate']]\n",
        "\n",
        "X_test_14 = X_test_14_df[['dch_wc', 'ch_rsst', 'dch_rec', 'dch_inv', 'soft_assets', 'ch_cs', 'ch_cm', 'ch_roa', 'bm',\n",
        "                          'dpi', 'reoa', 'EBIT', 'ch_fcf', 'issue']]\n",
        "y_test_14 = X_test_14_df[['misstate']]"
      ],
      "metadata": {
        "id": "ftv85KSFVIiz"
      },
      "execution_count": null,
      "outputs": []
    },
    {
      "cell_type": "code",
      "source": [
        "class ProbitModel:\n",
        "    def __init__(self, X_train, y_train, X_test, y_test):\n",
        "        self.X_train = X_train\n",
        "        self.y_train = y_train\n",
        "        self.X_test = X_test\n",
        "        self.y_test = y_test\n",
        "\n",
        "    def fit_model(self):\n",
        "        probit_model = sm.Probit(self.y_train, self.X_train)\n",
        "        self.probit_result = probit_model.fit_regularized()\n",
        "\n",
        "    def predict(self):\n",
        "        y_pred_proba = self.probit_result.predict(self.X_test)\n",
        "        y_pred = (y_pred_proba > 0.5).astype(int)\n",
        "        return y_pred\n",
        "\n",
        "    def evaluate(self, y_pred):\n",
        "        auc_prob = roc_auc_score(self.y_test, y_pred)\n",
        "        print(\"AUC:\", auc_prob)\n"
      ],
      "metadata": {
        "id": "gldDGQarsyRa"
      },
      "execution_count": null,
      "outputs": []
    },
    {
      "cell_type": "code",
      "source": [
        "probit_model_42 = ProbitModel(X_train_42, y_train_42, X_test_42, y_test_42)\n",
        "probit_model_42.fit_model()\n",
        "y_pred = probit_model_42.predict()\n",
        "probit_model_42.evaluate(y_pred)"
      ],
      "metadata": {
        "colab": {
          "base_uri": "https://localhost:8080/"
        },
        "id": "Cg714Yf1s1I8",
        "outputId": "568670ac-cbb7-4c39-e383-47ce1c660aad"
      },
      "execution_count": null,
      "outputs": [
        {
          "output_type": "stream",
          "name": "stdout",
          "text": [
            "Optimization terminated successfully    (Exit mode 0)\n",
            "            Current function value: 0.5735358161472541\n",
            "            Iterations: 579\n",
            "            Function evaluations: 582\n",
            "            Gradient evaluations: 579\n",
            "AUC: 0.609346632044069\n"
          ]
        }
      ]
    },
    {
      "cell_type": "code",
      "source": [
        "probit_model_28 = ProbitModel(X_train_28, y_train_28, X_test_28, y_test_28)\n",
        "probit_model_28.fit_model()\n",
        "y_pred = probit_model_28.predict()\n",
        "probit_model_28.evaluate(y_pred)"
      ],
      "metadata": {
        "colab": {
          "base_uri": "https://localhost:8080/"
        },
        "id": "_kMDTt7LtNON",
        "outputId": "37480d13-aec7-403b-a577-db296f95ca5d"
      },
      "execution_count": null,
      "outputs": [
        {
          "output_type": "stream",
          "name": "stdout",
          "text": [
            "Optimization terminated successfully    (Exit mode 0)\n",
            "            Current function value: 0.6155794755649171\n",
            "            Iterations: 477\n",
            "            Function evaluations: 482\n",
            "            Gradient evaluations: 477\n",
            "AUC: 0.5736090555427917\n"
          ]
        }
      ]
    },
    {
      "cell_type": "code",
      "source": [
        "probit_model_14 = ProbitModel(X_train_14, y_train_14, X_test_14, y_test_14)\n",
        "probit_model_14.fit_model()\n",
        "y_pred = probit_model_14.predict()\n",
        "probit_model_14.evaluate(y_pred)"
      ],
      "metadata": {
        "colab": {
          "base_uri": "https://localhost:8080/"
        },
        "id": "dyu89jKUtN0r",
        "outputId": "c50279ee-80ae-448e-cd66-3a44f884ccd0"
      },
      "execution_count": null,
      "outputs": [
        {
          "output_type": "stream",
          "name": "stdout",
          "text": [
            "Optimization terminated successfully    (Exit mode 0)\n",
            "            Current function value: 0.6262060740665648\n",
            "            Iterations: 200\n",
            "            Function evaluations: 200\n",
            "            Gradient evaluations: 200\n",
            "AUC: 0.6065844379972324\n"
          ]
        }
      ]
    }
  ]
}